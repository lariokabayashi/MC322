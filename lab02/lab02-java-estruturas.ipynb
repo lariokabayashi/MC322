{
 "cells": [
  {
   "cell_type": "markdown",
   "metadata": {},
   "source": [
    "# Laboratório em Estruturas de Programação Java\n",
    "\n",
    "O laboratório a seguir serve para praticar estruturas de programação Java sem compromisso com a orientação a objetos."
   ]
  },
  {
   "cell_type": "markdown",
   "metadata": {},
   "source": [
    "## Desafio 1 - Empréstimo\n",
    "\n",
    "Em um financiamento com juros compostos e número de parcelas fixas parte-se dos seguintes parâmetros:\n",
    "* `S` - valor da primeira parcela\n",
    "* `N` - número de parcelas\n",
    "* `J` - percentual de juros mensal\n",
    "\n",
    "A primeira parcela a ser paga do financiamento é sempre igual a `S`. A partir daí é feita uma atualização mensal da parcela, em que cada nova parcela é calculada a partir da parcela do mês anterior, conforme a fórmula:\n",
    "\n",
    "> Parcela<sub>mês</sub> = Parcela<sub>mês-1</sub> * (1 + `J` / 100)\n",
    "\n",
    "O financiamento encerra quando as `N` parcelas são pagas.\n",
    "\n",
    "Exemplo:\n",
    "* `S`: 200\n",
    "* `N`: 5\n",
    "* `J`: 1%\n",
    "\n",
    "Parcelas do financiamento:\n",
    "`200`; `202`; `204.02`; `206.06`; `208.12`"
   ]
  },
  {
   "cell_type": "markdown",
   "metadata": {},
   "source": [
    "### Desafio 1 / Parte 1 - Escrevendo o programa sem módulos\n",
    "\n",
    "Dado o problema descrito, escreva um programa que calcule as parcelas de um empréstimo para os seguintes valores:\n",
    "* S: 200\n",
    "* N: 5\n",
    "* J: 1%\n",
    "\n",
    "Nesta versão não use outro módulo além da função principal."
   ]
  },
  {
   "cell_type": "code",
   "execution_count": 50,
   "metadata": {},
   "outputs": [
    {
     "name": "stdout",
     "output_type": "stream",
     "text": [
      "Parcela 0 é 200.0\n",
      "Parcela 1 é 202.0\n",
      "Parcela 2 é 204.02\n",
      "Parcela 3 é 206.0602\n",
      "Parcela 4 é 208.12079\n"
     ]
    },
    {
     "data": {
      "text/plain": [
       "null"
      ]
     },
     "execution_count": 50,
     "metadata": {},
     "output_type": "execute_result"
    }
   ],
   "source": [
    "float X, S = 200;\n",
    "float J = 1;\n",
    "int i, N = 5;\n",
    "System.out.println(\"Parcela 0 é \" + S);\n",
    "for (i = 1; i < N; i++){\n",
    "        X = S * (1 + J/100);\n",
    "        S = X;\n",
    "        System.out.print(\"Parcela \" + i);\n",
    "        System.out.println(\" é \"+ X);\n",
    "    }"
   ]
  },
  {
   "cell_type": "markdown",
   "metadata": {},
   "source": [
    "### Desafio 1 / Parte 2 - Escrevendo módulos\n",
    "\n",
    "Reescreva o código acima de forma que seu programa faça uso de uma função que seja responsável pelo cálculo de uma parcela X do empréstimo. Podem ser usadas mais funções (métodos) conforme a necessidade."
   ]
  },
  {
   "cell_type": "code",
   "execution_count": 51,
   "metadata": {},
   "outputs": [
    {
     "data": {
      "text/plain": [
       "com.twosigma.beaker.javash.bkr3afbcdcd.ProximaParcela"
      ]
     },
     "execution_count": 51,
     "metadata": {},
     "output_type": "execute_result"
    }
   ],
   "source": [
    "public class ProximaParcela {\n",
    "\n",
    "    static float Calcula(float S, float J, int i){\n",
    "        if (i == 0)\n",
    "            return S;\n",
    "        else\n",
    "            return S * (1 + J/100);\n",
    "    }\n",
    "}"
   ]
  },
  {
   "cell_type": "code",
   "execution_count": 52,
   "metadata": {},
   "outputs": [
    {
     "name": "stdout",
     "output_type": "stream",
     "text": [
      "Parcela 0 é 200.0\n",
      "Parcela 1 é 202.0\n",
      "Parcela 2 é 204.02\n",
      "Parcela 3 é 206.0602\n",
      "Parcela 4 é 208.12079\n"
     ]
    },
    {
     "data": {
      "text/plain": [
       "null"
      ]
     },
     "execution_count": 52,
     "metadata": {},
     "output_type": "execute_result"
    }
   ],
   "source": [
    "float X, S = 200;\n",
    "float J = 1;\n",
    "int i, N = 5;\n",
    "int j;\n",
    "for (i = 0; i < N; i++){\n",
    "    S = ProximaParcela.Calcula(S, J, i);\n",
    "    System.out.print(\"Parcela \" + i);\n",
    "    System.out.println(\" é \"+ S);\n",
    "}"
   ]
  },
  {
   "cell_type": "markdown",
   "metadata": {},
   "source": [
    "## Desafio 2\n",
    "\n",
    "Escreva um programa que sorteie um número inteiro entre `0` e `9999` o número deve ser mostrado, em seguida convertido para binário e a versão binária deve ser apresentada no console. A conversão decimal/binário deve ser computada por um programa feito por você."
   ]
  },
  {
   "cell_type": "code",
   "execution_count": 55,
   "metadata": {},
   "outputs": [
    {
     "data": {
      "text/plain": [
       "com.twosigma.beaker.javash.bkr3afbcdcd.binario"
      ]
     },
     "execution_count": 55,
     "metadata": {},
     "output_type": "execute_result"
    }
   ],
   "source": [
    "public class binario{\n",
    "    \n",
    "    static void CalculaBinario(int numero){\n",
    "        int d = numero;\n",
    "        int b;\n",
    "        while (d > 1){\n",
    "            b = d % 2;\n",
    "            System.out.print(b) ;\n",
    "            d -= d / 2 ;\n",
    "        }\n",
    "    }\n",
    "}"
   ]
  },
  {
   "cell_type": "code",
   "execution_count": 56,
   "metadata": {},
   "outputs": [
    {
     "name": "stdout",
     "output_type": "stream",
     "text": [
      "número inteiro: 5930\n",
      "número binário: 0110101100010"
     ]
    },
    {
     "data": {
      "text/plain": [
       "null"
      ]
     },
     "execution_count": 56,
     "metadata": {},
     "output_type": "execute_result"
    }
   ],
   "source": [
    "import java.util.Random;\n",
    "\n",
    "Random rand = new Random();\n",
    "int num = rand.nextInt(10000);\n",
    "System.out.println (\"número inteiro: \" + num) ;\n",
    "System.out.print (\"número binário: \") ;\n",
    "binario.CalculaBinario(num);"
   ]
  },
  {
   "cell_type": "markdown",
   "metadata": {},
   "source": [
    "## Desafio 3\n",
    "\n",
    "Uma molécula de DNA pode ser definida a partir de uma cadeia que representa a sequência de suas bases:\n",
    "A - Adenina\n",
    "C - Citisina\n",
    "G - Guanina\n",
    "T - Tinina\n",
    "\n",
    "Desse modo, uma string pode ser usada para representar um segmento do DNA da seguinte maneira: `ATTACGCGCAAAC`.\n",
    "\n",
    "Escreva uma função (método) que codifique a cadeia de RNA produzida a partir de uma cadeia de DNA. A função deve ser genérica o suficiente para ser aplicável a qualquer cadeia. A entrada é uma string (DNA) e o retorno é uma string (RNA).\n",
    "\n",
    "Escreva um programa que teste esta função com uma cadeia de DNA de sua escolha."
   ]
  },
  {
   "cell_type": "code",
   "execution_count": 57,
   "metadata": {},
   "outputs": [
    {
     "data": {
      "text/plain": [
       "com.twosigma.beaker.javash.bkr3afbcdcd.Transcr"
      ]
     },
     "execution_count": 57,
     "metadata": {},
     "output_type": "execute_result"
    }
   ],
   "source": [
    "public class Transcr{\n",
    "    \n",
    "    static void Transforma(String DNA){\n",
    "        char[] letras = null;\n",
    "        int i;\n",
    "        letras = DNA.toCharArray();\n",
    "        System.out.println(\"DNA: \" + DNA);\n",
    "        System.out.print(\"RNA: \");\n",
    "        for (i = 0; i < DNA.length(); i++){\n",
    "            String l = String.valueOf(letras[i]);\n",
    "            if (l.equals(\"A\"))\n",
    "                System.out.print(\"U\");\n",
    "            else if (l.equals(\"C\"))\n",
    "                System.out.print(\"G\");\n",
    "            else if (l.equals(\"G\"))\n",
    "                System.out.print(\"C\");\n",
    "            else\n",
    "                System.out.print(\"A\");\n",
    "        }\n",
    "    }\n",
    "}\n"
   ]
  },
  {
   "cell_type": "code",
   "execution_count": 58,
   "metadata": {},
   "outputs": [
    {
     "name": "stdout",
     "output_type": "stream",
     "text": [
      "DNA: ACGTAGGCT\n",
      "RNA: UGCAUCCGA"
     ]
    },
    {
     "data": {
      "text/plain": [
       "null"
      ]
     },
     "execution_count": 58,
     "metadata": {},
     "output_type": "execute_result"
    }
   ],
   "source": [
    "String DNA = \"ACGTAGGCT\";\n",
    "Transcr.Transforma(DNA);"
   ]
  },
  {
   "cell_type": "markdown",
   "metadata": {},
   "source": [
    "## Desafio 4\n",
    "\n",
    "Uma empresa precisa realizar uma estatística do salário de seus funcionários.\n",
    "\n",
    "Para fins de teste, os salários devem ser gerados aleatoriamente com valores variando entre R\\\\$ 2.500 e R\\\\$ 15.000.\n",
    "\n",
    "Escreva um programa que gere uma lista contendo os salários de 50 funcionários da empresa e mostre no console quantos funcionários ganham salário acima da média."
   ]
  },
  {
   "cell_type": "code",
   "execution_count": 59,
   "metadata": {},
   "outputs": [
    {
     "data": {
      "text/plain": [
       "com.twosigma.beaker.javash.bkr3afbcdcd.calc"
      ]
     },
     "execution_count": 59,
     "metadata": {},
     "output_type": "execute_result"
    }
   ],
   "source": [
    "public class calc{\n",
    "    \n",
    "    static float Media(int salarios[]){\n",
    "        int i;\n",
    "        int total = 0;\n",
    "        for (i = 0; i < 50; i++){\n",
    "            total += salarios[i];\n",
    "        }\n",
    "        return total/50;\n",
    "    }\n",
    "}"
   ]
  },
  {
   "cell_type": "code",
   "execution_count": 60,
   "metadata": {},
   "outputs": [
    {
     "name": "stdout",
     "output_type": "stream",
     "text": [
      "Lista de salários: 654 8520 6781 10473 8491 2358 8464 12019 6524 6384 12743 7923 6453 796 5278 7943 4783 6515 9227 1284 3399 3234 6752 4011 2931 8223 4080 9987 2625 336 10407 4514 7462 7332 2066 2038 12056 11437 5464 6877 89 3845 12884 7196 12064 13957 3952 8181 7982 11373 \n",
      "Quantos funcionários ganham salário acima da média:29\n"
     ]
    },
    {
     "data": {
      "text/plain": [
       "null"
      ]
     },
     "execution_count": 60,
     "metadata": {},
     "output_type": "execute_result"
    }
   ],
   "source": [
    "import java.util.Random;\n",
    "\n",
    "Random rand = new Random();\n",
    "int salarios[] = new int[50];\n",
    "int i;\n",
    "int quant = 0;\n",
    "\n",
    "System.out.print(\"Lista de salários: \");\n",
    "\n",
    "for (i = 0; i < 50; i++){\n",
    "    int num = rand.nextInt(15000);\n",
    "    if (num > 2500)\n",
    "        salarios[i] = num;\n",
    "        System.out.print(num + \" \");\n",
    "}\n",
    "float media = calc.Media(salarios);\n",
    "for (i = 0; i < 50; i++){\n",
    "    if (salarios[i] > media)\n",
    "        quant += 1;\n",
    "}\n",
    "System.out.println(\"\\nQuantos funcionários ganham salário acima da média:\" + quant);"
   ]
  },
  {
   "cell_type": "code",
   "execution_count": null,
   "metadata": {},
   "outputs": [],
   "source": []
  }
 ],
 "metadata": {
  "kernelspec": {
   "display_name": "Java",
   "language": "java",
   "name": "java"
  },
  "language_info": {
   "codemirror_mode": "text/x-java",
   "file_extension": ".java",
   "mimetype": "",
   "name": "Java",
   "nbconverter_exporter": "",
   "version": "1.8.0_121"
  },
  "toc": {
   "base_numbering": 1,
   "nav_menu": {},
   "number_sections": false,
   "sideBar": false,
   "skip_h1_title": false,
   "title_cell": "Table of Contents",
   "title_sidebar": "Contents",
   "toc_cell": false,
   "toc_position": {},
   "toc_section_display": false,
   "toc_window_display": false
  }
 },
 "nbformat": 4,
 "nbformat_minor": 4
}
