{
 "cells": [
  {
   "cell_type": "markdown",
   "metadata": {},
   "source": [
    "# Relacionamento entre Classes e Objetos\n",
    "\n",
    "## Retomando a classe Círculo"
   ]
  },
  {
   "cell_type": "code",
   "execution_count": 1,
   "metadata": {},
   "outputs": [
    {
     "data": {
      "text/plain": [
       "com.twosigma.beaker.javash.bkr1588711f.Circulo"
      ]
     },
     "execution_count": 1,
     "metadata": {},
     "output_type": "execute_result"
    }
   ],
   "source": [
    "public class Circulo {\n",
    "   int centroX, centroY;\n",
    "   int raio;\n",
    "   \n",
    "   Circulo(int centroX, int centroY, int raio) {\n",
    "      this.centroX = centroX;\n",
    "      this.centroY = centroY;\n",
    "      this.raio = raio;\n",
    "   }\n",
    "   \n",
    "   void mostraArea() {\n",
    "      System.out.println(Math.PI * raio * raio);\n",
    "   }\n",
    "}"
   ]
  },
  {
   "cell_type": "markdown",
   "metadata": {},
   "source": [
    "## Identidade do Objeto\n",
    "\n",
    "O código a seguir mostra a identidade de uma instância da classe círculo."
   ]
  },
  {
   "cell_type": "code",
   "execution_count": 2,
   "metadata": {},
   "outputs": [
    {
     "name": "stdout",
     "output_type": "stream",
     "text": [
      "Identidade: com.twosigma.beaker.javash.bkr1588711f.Circulo@712948e5\n"
     ]
    },
    {
     "data": {
      "text/plain": [
       "null"
      ]
     },
     "execution_count": 2,
     "metadata": {},
     "output_type": "execute_result"
    }
   ],
   "source": [
    "Circulo circ = new Circulo(5, 3, 10);\n",
    "\n",
    "System.out.println(\"Identidade: \" + circ);"
   ]
  },
  {
   "cell_type": "markdown",
   "metadata": {},
   "source": [
    "# Objetos `Grafico` e `Potencia` trabalhando em conjunto\n",
    "\n",
    "## Classe `Grafico`\n",
    "\n",
    "* Atributos\n",
    "  * `preenchido` - define se a plotagem será preenchida;\n",
    "  * `caractere` - define o caractere da plotagem.\n",
    "* Método\n",
    "  * `plota()` - plota uma barra do gráfico."
   ]
  },
  {
   "cell_type": "code",
   "execution_count": 3,
   "metadata": {},
   "outputs": [
    {
     "data": {
      "text/plain": [
       "com.twosigma.beaker.javash.bkr1588711f.Grafico"
      ]
     },
     "execution_count": 3,
     "metadata": {},
     "output_type": "execute_result"
    }
   ],
   "source": [
    "public class Grafico {\n",
    "   boolean preenchido;\n",
    "   char caractere;\n",
    "   \n",
    "   Grafico(boolean preenchido, char caractere) {\n",
    "      this.preenchido = preenchido;\n",
    "      this.caractere = caractere;\n",
    "   }\n",
    "\n",
    "   void plota(int valor) {\n",
    "      for (int v = 1; v < valor; v++)\n",
    "         System.out.print((preenchido) ? caractere : ' ');\n",
    "      System.out.println(caractere);\n",
    "   }\n",
    "}"
   ]
  },
  {
   "cell_type": "markdown",
   "metadata": {},
   "source": [
    "## Usando objetos da classe `Grafico`\n",
    "\n",
    "Abaixo um exemplo de como objetos da classe `Grafico` podem ser usados."
   ]
  },
  {
   "cell_type": "code",
   "execution_count": 4,
   "metadata": {},
   "outputs": [
    {
     "name": "stdout",
     "output_type": "stream",
     "text": [
      "##########\n",
      "############\n",
      "########\n",
      "\n",
      "   *\n",
      "    *\n",
      "      *\n"
     ]
    },
    {
     "data": {
      "text/plain": [
       "null"
      ]
     },
     "execution_count": 4,
     "metadata": {},
     "output_type": "execute_result"
    }
   ],
   "source": [
    "Grafico g1 = new Grafico(true, '#');\n",
    "g1.plota(10);\n",
    "g1.plota(12);\n",
    "g1.plota(8);\n",
    "System.out.println();\n",
    "\n",
    "Grafico g2 = new Grafico(false, '*');\n",
    "g2.plota(4);\n",
    "g2.plota(5);\n",
    "g2.plota(7);"
   ]
  },
  {
   "cell_type": "markdown",
   "metadata": {},
   "source": [
    "## Classe `Potencia`\n",
    "\n",
    "Gera uma sequência de números que crescem em uma potência quadrada.\n",
    "\n",
    "* Atributos:\n",
    "  * `inicial` - valor inicial da sequência;\n",
    "  * `quantidade` - quantidade de valores na sequência;\n",
    "  * `saida` - referência para um objeto da classe `Grafico`.\n",
    "* Métodos\n",
    "  * `conecta` - informa a identidade de um objeto da classe `Grafico` para ser usado para plotagem;\n",
    "  * `apresenta` - apresenta o gráfico exponencial (em conjunto com um objeto da classe `Grafico`)."
   ]
  },
  {
   "cell_type": "code",
   "execution_count": 5,
   "metadata": {},
   "outputs": [
    {
     "data": {
      "text/plain": [
       "com.twosigma.beaker.javash.bkr1588711f.Potencia"
      ]
     },
     "execution_count": 5,
     "metadata": {},
     "output_type": "execute_result"
    }
   ],
   "source": [
    "public class Potencia {\n",
    "   int inicial;\n",
    "   int quantidade;\n",
    "   Grafico saida;\n",
    "\n",
    "   Potencia(int inicial, int quantidade) {\n",
    "      this.inicial = inicial;\n",
    "      this.quantidade = quantidade;\n",
    "      saida = null;\n",
    "   }\n",
    "\n",
    "   void conecta(Grafico saida) {\n",
    "      this.saida = saida;\n",
    "   }\n",
    "\n",
    "   void apresenta() {\n",
    "      if (saida != null) {\n",
    "         int v = inicial;\n",
    "         for (int i = 1; i <= quantidade; i++) {\n",
    "            saida.plota(v);\n",
    "            v *= 2;\n",
    "         }\n",
    "      }\n",
    "   }\n",
    "}"
   ]
  },
  {
   "cell_type": "markdown",
   "metadata": {},
   "source": [
    "## Criando e conectando objetos\n",
    "\n",
    "Exemplo que cria um objeto da classe `Potencia` outro da classe `Grafico` e os conecta para que trabalhem em conjunto."
   ]
  },
  {
   "cell_type": "code",
   "execution_count": 6,
   "metadata": {},
   "outputs": [
    {
     "name": "stdout",
     "output_type": "stream",
     "text": [
      "#\n",
      "##\n",
      "####\n",
      "########\n",
      "################\n",
      "################################\n",
      "################################################################\n"
     ]
    },
    {
     "data": {
      "text/plain": [
       "null"
      ]
     },
     "execution_count": 6,
     "metadata": {},
     "output_type": "execute_result"
    }
   ],
   "source": [
    "Grafico g1 = new Grafico(true, '#');\n",
    "Potencia p = new Potencia(1, 7);\n",
    "p.conecta(g1);\n",
    "p.apresenta();"
   ]
  },
  {
   "cell_type": "markdown",
   "metadata": {},
   "source": [
    "## Conectando o objeto `Potencia` com dois objetos `Grafico`\n",
    "\n",
    "Exemplo conectando o mesmo objeto da classe `Potencia` com dois objetos da classe `Grafico`."
   ]
  },
  {
   "cell_type": "code",
   "execution_count": 7,
   "metadata": {},
   "outputs": [
    {
     "name": "stdout",
     "output_type": "stream",
     "text": [
      "#\n",
      "##\n",
      "####\n",
      "########\n",
      "################\n",
      "################################\n",
      "################################################################\n",
      "*\n",
      " *\n",
      "   *\n",
      "       *\n",
      "               *\n",
      "                               *\n",
      "                                                               *\n"
     ]
    },
    {
     "data": {
      "text/plain": [
       "null"
      ]
     },
     "execution_count": 7,
     "metadata": {},
     "output_type": "execute_result"
    }
   ],
   "source": [
    "Grafico g1 = new Grafico(true, '#');\n",
    "Grafico g2 = new Grafico(false, '*');\n",
    "\n",
    "Potencia p = new Potencia(1, 7);\n",
    "\n",
    "p.conecta(g1);\n",
    "p.apresenta();\n",
    "\n",
    "p.conecta(g2);\n",
    "p.apresenta();"
   ]
  },
  {
   "cell_type": "markdown",
   "metadata": {},
   "source": [
    "# Exercício do Gráfico de Segundo Grau\n",
    "\n",
    "## Função de segundo grau\n",
    "\n",
    "Escreva uma classe `SegundoGrau` cujos objetos produzam valores de uma função de segundo grau."
   ]
  },
  {
   "cell_type": "code",
   "execution_count": 4,
   "metadata": {},
   "outputs": [
    {
     "data": {
      "text/plain": [
       "com.twosigma.beaker.javash.bkr26089444.SegundoGrau"
      ]
     },
     "execution_count": 4,
     "metadata": {},
     "output_type": "execute_result"
    }
   ],
   "source": [
    "public class SegundoGrau {\n",
    "    Grafico saida;\n",
    "    int a, b, c;\n",
    "    int y;\n",
    "    int quantidade;\n",
    "    \n",
    "    SegundoGrau(int a, int b, int c, int quantidade) {\n",
    "        this.a = a;\n",
    "        this.b = b;\n",
    "        this.c = c;\n",
    "        this.quantidade = quantidade;\n",
    "        saida = null;\n",
    "   }\n",
    "    \n",
    "    void conecta(Grafico saida) {\n",
    "      this.saida = saida;\n",
    "   }\n",
    "    \n",
    "    void apresenta() {\n",
    "        for (int i = quantidade; i > 0; i--) {\n",
    "            y = a*(i*i) + b*i + c;\n",
    "            saida.plota(y);\n",
    "        }\n",
    "    }\n",
    "}"
   ]
  },
  {
   "cell_type": "markdown",
   "metadata": {},
   "source": [
    "## Plotagem de parábola\n",
    "\n",
    "Escreva um programa que conecte um objeto da classe `SegundoGrau` a um objeto da classe `Grafico` de forma que seja plotada uma parábola. Por conta do comportamento da classe `Grafico`, a parábola será plotada virada, ou seja eixos X e Y trocados."
   ]
  },
  {
   "cell_type": "code",
   "execution_count": 3,
   "metadata": {},
   "outputs": [
    {
     "data": {
      "text/plain": [
       "com.twosigma.beaker.javash.bkr26089444.Grafico"
      ]
     },
     "execution_count": 3,
     "metadata": {},
     "output_type": "execute_result"
    }
   ],
   "source": [
    "public class Grafico {\n",
    "   boolean preenchido;\n",
    "   char caractere;\n",
    "   \n",
    "   Grafico(boolean preenchido, char caractere) {\n",
    "      this.preenchido = preenchido;\n",
    "      this.caractere = caractere;\n",
    "   }\n",
    "\n",
    "   void plota(int valor) {\n",
    "      for (int v = 1; v < valor; v++)\n",
    "         System.out.print((preenchido) ? caractere : ' ');\n",
    "      System.out.println(caractere);\n",
    "   }\n",
    "}"
   ]
  },
  {
   "cell_type": "code",
   "execution_count": 7,
   "metadata": {},
   "outputs": [
    {
     "name": "stdout",
     "output_type": "stream",
     "text": [
      "                                                                                                                                                                                                                                                                                                                                                                                                               *\n",
      "                                                                                                                                                                                                                                                                                                                                                                        *\n",
      "                                                                                                                                                                                                                                                                                                                                   *\n",
      "                                                                                                                                                                                                                                                                                                *\n",
      "                                                                                                                                                                                                                                                               *\n",
      "                                                                                                                                                                                                                                *\n",
      "                                                                                                                                                                                                   *\n",
      "                                                                                                                                                                        *\n",
      "                                                                                                                                               *\n",
      "                                                                                                                        *\n",
      "                                                                                                   *\n",
      "                                                                                *\n",
      "                                                               *\n",
      "                                                *\n",
      "                                   *\n",
      "                        *\n",
      "               *\n",
      "        *\n",
      "   *\n",
      "*\n"
     ]
    },
    {
     "data": {
      "text/plain": [
       "null"
      ]
     },
     "execution_count": 7,
     "metadata": {},
     "output_type": "execute_result"
    }
   ],
   "source": [
    "Grafico g = new Grafico(false, '*');\n",
    "\n",
    "SegundoGrau s = new SegundoGrau(1, 0, 0, 20);\n",
    "\n",
    "s.conecta(g);\n",
    "s.apresenta();"
   ]
  },
  {
   "cell_type": "code",
   "execution_count": null,
   "metadata": {},
   "outputs": [],
   "source": []
  }
 ],
 "metadata": {
  "kernelspec": {
   "display_name": "Java",
   "language": "java",
   "name": "java"
  },
  "language_info": {
   "codemirror_mode": "text/x-java",
   "file_extension": ".java",
   "mimetype": "",
   "name": "Java",
   "nbconverter_exporter": "",
   "version": "1.8.0_121"
  },
  "toc": {
   "base_numbering": 1,
   "nav_menu": {},
   "number_sections": false,
   "sideBar": false,
   "skip_h1_title": false,
   "title_cell": "Table of Contents",
   "title_sidebar": "Contents",
   "toc_cell": false,
   "toc_position": {},
   "toc_section_display": false,
   "toc_window_display": false
  }
 },
 "nbformat": 4,
 "nbformat_minor": 4
}
